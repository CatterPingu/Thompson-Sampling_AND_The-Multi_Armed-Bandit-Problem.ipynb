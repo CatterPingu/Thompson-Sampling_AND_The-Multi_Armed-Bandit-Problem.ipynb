{
  "nbformat": 4,
  "nbformat_minor": 0,
  "metadata": {
    "colab": {
      "provenance": []
    },
    "kernelspec": {
      "name": "python3",
      "display_name": "Python 3"
    }
  },
  "cells": [
    {
      "cell_type": "markdown",
      "metadata": {
        "id": "KLHLVLOYi-l7"
      },
      "source": [
        "\n",
        "# Problem\n",
        "\n",
        "Given multiple slot machiones and fixed cash, we have to maximize the chances of winning"
      ]
    },
    {
      "cell_type": "code",
      "metadata": {
        "id": "ceOG7gbaAHVM"
      },
      "source": [
        "\n",
        "import numpy as np"
      ],
      "execution_count": 1,
      "outputs": []
    },
    {
      "cell_type": "code",
      "metadata": {
        "id": "UtWPQQ5BASwf",
        "colab": {
          "base_uri": "https://localhost:8080/"
        },
        "outputId": "7b9f0826-5a99-4c31-d23f-181f16e120ca"
      },
      "source": [
        "# We have 1000 in cash and each turn costs 1\n",
        "number_of_turns = 1000\n",
        "\n",
        "\n",
        "number_of_slot_machines = 6\n",
        "\n",
        "#To keep track of wins and losses\n",
        "number_of_positive_rewards = np.zeros(number_of_slot_machines)\n",
        "number_of_negative_rewards = np.zeros(number_of_slot_machines)\n",
        "\n",
        "#To get same results when running the notebook again\n",
        "np.random.seed(33)\n",
        "\n",
        "#Creating conversion rates for slot machines\n",
        "conversion_rates = np.random.uniform(0.01, 0.15, number_of_slot_machines)\n",
        "\n",
        "#This will never be known in real life!\n",
        "for i in range(6):\n",
        "  print('Conversion rate for slot machine {0}: {1:.2%}'.format(i, conversion_rates[i]))"
      ],
      "execution_count": 2,
      "outputs": [
        {
          "output_type": "stream",
          "name": "stdout",
          "text": [
            "Conversion rate for slot machine 0: 4.48%\n",
            "Conversion rate for slot machine 1: 7.30%\n",
            "Conversion rate for slot machine 2: 6.75%\n",
            "Conversion rate for slot machine 3: 4.64%\n",
            "Conversion rate for slot machine 4: 13.19%\n",
            "Conversion rate for slot machine 5: 3.59%\n"
          ]
        }
      ]
    },
    {
      "cell_type": "markdown",
      "metadata": {
        "id": "UAnwdAhRg19w"
      },
      "source": [
        "## Data Set"
      ]
    },
    {
      "cell_type": "code",
      "metadata": {
        "id": "1Gmwcfl2Ekx4",
        "colab": {
          "base_uri": "https://localhost:8080/"
        },
        "outputId": "5ff2789b-19eb-4768-a7cd-09d0c6e49a36"
      },
      "source": [
        "#To get same results when running the notebook again\n",
        "np.random.seed(55)\n",
        "\n",
        "#2D array for wins and losses. 1 means win and vice-vers\n",
        "outcomes = np.zeros((number_of_turns, number_of_slot_machines))\n",
        "\n",
        "for turn_index in range(number_of_turns): #for each turn\n",
        "    for slot_machine_index in range(number_of_slot_machines): #for each slot machine\n",
        "        #if random number less than conversion rate then we've won else zero by default\n",
        "        if np.random.rand() <= conversion_rates[slot_machine_index]:\n",
        "            outcomes[turn_index][slot_machine_index] = 1\n",
        "\n",
        "\n",
        "print(outcomes[0:15, 0:6]) "
      ],
      "execution_count": 3,
      "outputs": [
        {
          "output_type": "stream",
          "name": "stdout",
          "text": [
            "[[0. 0. 0. 0. 0. 0.]\n",
            " [0. 1. 0. 0. 1. 0.]\n",
            " [1. 0. 0. 0. 0. 0.]\n",
            " [0. 0. 0. 0. 1. 0.]\n",
            " [0. 0. 0. 0. 0. 0.]\n",
            " [0. 0. 0. 1. 0. 0.]\n",
            " [0. 0. 0. 0. 0. 0.]\n",
            " [0. 0. 0. 0. 0. 0.]\n",
            " [0. 0. 0. 0. 0. 0.]\n",
            " [0. 0. 0. 0. 0. 0.]\n",
            " [0. 0. 0. 0. 0. 0.]\n",
            " [0. 0. 0. 0. 1. 0.]\n",
            " [0. 0. 0. 0. 0. 1.]\n",
            " [0. 0. 0. 0. 1. 0.]\n",
            " [0. 0. 0. 0. 0. 0.]]\n"
          ]
        }
      ]
    },
    {
      "cell_type": "code",
      "metadata": {
        "id": "l5RFn_AJhmLA",
        "colab": {
          "base_uri": "https://localhost:8080/"
        },
        "outputId": "860b54cc-2f1c-4ca9-e570-e2772e553162"
      },
      "source": [
        "#conversion rate of each machine\n",
        "for i in range(6):\n",
        "  print('Mean for column {0}: {1:.2%}'.format(i, np.mean(outcomes[:, i])))"
      ],
      "execution_count": 4,
      "outputs": [
        {
          "output_type": "stream",
          "name": "stdout",
          "text": [
            "Mean for column 0: 4.10%\n",
            "Mean for column 1: 7.10%\n",
            "Mean for column 2: 6.30%\n",
            "Mean for column 3: 4.90%\n",
            "Mean for column 4: 12.30%\n",
            "Mean for column 5: 3.40%\n"
          ]
        }
      ]
    },
    {
      "cell_type": "markdown",
      "metadata": {
        "id": "iINsn-zDrHII"
      },
      "source": [
        "## Thompson Sampling"
      ]
    },
    {
      "cell_type": "code",
      "metadata": {
        "id": "8HDhqWdzi2oD",
        "colab": {
          "base_uri": "https://localhost:8080/"
        },
        "outputId": "3de55b82-e33e-4a7d-96c2-7cf46a03d71c"
      },
      "source": [
        "#for each turn\n",
        "for turn_index in range(number_of_turns):\n",
        "    index_of_machine_to_play = -1\n",
        "    max_beta = -1 #want to find maximum value of beta\n",
        "\n",
        "    #for each slot machine\n",
        "    for slot_machine_index in range(number_of_slot_machines): \n",
        "        a = number_of_positive_rewards[slot_machine_index] + 1\n",
        "        b = number_of_negative_rewards[slot_machine_index] + 1\n",
        "\n",
        "        #random value from beta distribution\n",
        "        random_beta = np.random.beta(a, b)\n",
        "\n",
        "        #maximum beta\n",
        "        if random_beta > max_beta:\n",
        "            max_beta = random_beta\n",
        "            index_of_machine_to_play = slot_machine_index #set the machine to play to the current machine\n",
        "    \n",
        "    #record of wins and losses\n",
        "    if outcomes[turn_index][index_of_machine_to_play] == 1:\n",
        "        number_of_positive_rewards[index_of_machine_to_play] += 1\n",
        "    else:\n",
        "        number_of_negative_rewards[index_of_machine_to_play] += 1\n",
        "\n",
        "#times a machine was played\n",
        "number_of_times_played = number_of_positive_rewards + number_of_negative_rewards \n",
        "for slot_machine_index in range(number_of_slot_machines): #for each slot machine\n",
        "    print('Slot machine {0} was played {1} times'.format(slot_machine_index, number_of_times_played[slot_machine_index]))\n",
        "\n",
        "#best machine\n",
        "print('\\nThe best slot machine to play is machine {}!'.format(np.argmax(number_of_times_played)))"
      ],
      "execution_count": 6,
      "outputs": [
        {
          "output_type": "stream",
          "name": "stdout",
          "text": [
            "Slot machine 0 was played 58.0 times\n",
            "Slot machine 1 was played 50.0 times\n",
            "Slot machine 2 was played 72.0 times\n",
            "Slot machine 3 was played 105.0 times\n",
            "Slot machine 4 was played 1622.0 times\n",
            "Slot machine 5 was played 93.0 times\n",
            "\n",
            "The best slot machine to play is machine 4!\n"
          ]
        }
      ]
    },
    {
      "cell_type": "markdown",
      "metadata": {
        "id": "H5rlPKqy1fAf"
      },
      "source": [
        "### Compare with naive random sampling approach"
      ]
    },
    {
      "cell_type": "code",
      "metadata": {
        "id": "FFaeHlVE15fe",
        "colab": {
          "base_uri": "https://localhost:8080/"
        },
        "outputId": "7b7bdce9-02d5-4c43-c775-3cb018cf50b5"
      },
      "source": [
        "#wins from thompson\n",
        "total_wins_thompson_sampling = np.sum(number_of_positive_rewards)\n",
        "\n",
        "#determine how many times we would win if we used naive approach\n",
        "total_wins_random_sampling = 0\n",
        "for turn_index in range(number_of_turns):\n",
        "  index_of_machine_to_play = np.random.randint(0, number_of_slot_machines) #randomly choose machine\n",
        "  if outcomes[turn_index][index_of_machine_to_play] == 1:\n",
        "    total_wins_random_sampling += 1\n",
        "\n",
        "\n",
        "print('Total wins with Thompson Sampling: {0:.0f}'.format(total_wins_thompson_sampling))\n",
        "print('Total wins with Random Sampling: {0:.0f}'.format(total_wins_random_sampling))"
      ],
      "execution_count": 7,
      "outputs": [
        {
          "output_type": "stream",
          "name": "stdout",
          "text": [
            "Total wins with Thompson Sampling: 211\n",
            "Total wins with Random Sampling: 49\n"
          ]
        }
      ]
    },
    {
      "cell_type": "markdown",
      "metadata": {
        "id": "OJHIZ3Ru9be7"
      },
      "source": []
    },
    {
      "cell_type": "code",
      "metadata": {
        "id": "Qs-4oeFSijRY"
      },
      "source": [],
      "execution_count": null,
      "outputs": []
    }
  ]
}